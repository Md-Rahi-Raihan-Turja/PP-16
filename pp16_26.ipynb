{
  "nbformat": 4,
  "nbformat_minor": 0,
  "metadata": {
    "colab": {
      "provenance": []
    },
    "kernelspec": {
      "name": "python3",
      "display_name": "Python 3"
    },
    "language_info": {
      "name": "python"
    }
  },
  "cells": [
    {
      "cell_type": "markdown",
      "source": [],
      "metadata": {
        "id": "eF_B3qbr3iwK"
      }
    },
    {
      "cell_type": "markdown",
      "source": [
        "Md. rahi raihan Turja reg: 2020431008"
      ],
      "metadata": {
        "id": "ArcHGjZulVkO"
      }
    },
    {
      "cell_type": "markdown",
      "source": [],
      "metadata": {
        "id": "0CwyoZhTlYIk"
      }
    },
    {
      "cell_type": "code",
      "source": [
        "file=open('example.txt','w')\n",
        "file.write('Hello world to file\\n')\n",
        "file.write('second line\\n')\n",
        "file.close()"
      ],
      "metadata": {
        "id": "w9WZL9XpmXhk"
      },
      "execution_count": null,
      "outputs": []
    },
    {
      "cell_type": "code",
      "source": [
        "def read_file(file_name):\n",
        "  with open(file_name,'ir') as file:\n",
        "    print(file.read())\n",
        "\n",
        "try:\n",
        "  x=10/0\n",
        "  print(f'try block result(x)')\n",
        "  read_file('example.txt')\n",
        "except ZeroDivisionError as e:\n",
        "  print(f'ZeroDivisionError says:(e)\\n')\n",
        "except FileNotFoundError as e:\n",
        "  print(f'Error says: (e)\\n')\n",
        "except Exception as e:\n",
        "  print(f'ultimate exception check: (e)\\n')\n",
        "else:\n",
        "  print('No error try block run successfully\\n')\n",
        "finally:\n",
        "  print('finally\\n')"
      ],
      "metadata": {
        "colab": {
          "base_uri": "https://localhost:8080/"
        },
        "id": "_VaRuMdDqhxh",
        "outputId": "ffee9cb5-fa0c-4f45-fb16-d57f0f8ecb94"
      },
      "execution_count": null,
      "outputs": [
        {
          "output_type": "stream",
          "name": "stdout",
          "text": [
            "ZeroDivisionError says:(e)\n",
            "\n",
            "finally\n",
            "\n"
          ]
        }
      ]
    },
    {
      "cell_type": "code",
      "source": [
        "import numpy as np\n",
        "try:\n",
        "  user_input =input('Enter two integers separated by comma:')\n",
        "  num1,num2=map(int user_input.split(' '))\n",
        "  total=num1+num2\n",
        "  print(f'The sum of (num1) and (num2) is (total)')\n",
        "  name=input('Enter your name:').strip()\n",
        "  filename=f'(name)_sum.txt'\n",
        "  with open(filename.write(),'w') as file:\n",
        "    file.write(f'The sum of {num1} and {num2} is {total}')\n",
        "    print('rest')\n",
        "except ValueError:\n",
        "  print('RE')"
      ],
      "metadata": {
        "colab": {
          "base_uri": "https://localhost:8080/",
          "height": 106
        },
        "id": "sWyqnEXhq7jI",
        "outputId": "d7449ca3-4131-4e28-b792-c0fb8a18c78a"
      },
      "execution_count": 1,
      "outputs": [
        {
          "output_type": "error",
          "ename": "SyntaxError",
          "evalue": "invalid syntax. Perhaps you forgot a comma? (<ipython-input-1-f9480b76fa3c>, line 4)",
          "traceback": [
            "\u001b[0;36m  File \u001b[0;32m\"<ipython-input-1-f9480b76fa3c>\"\u001b[0;36m, line \u001b[0;32m4\u001b[0m\n\u001b[0;31m    num1,num2=map(int user_input.split(' '))\u001b[0m\n\u001b[0m                  ^\u001b[0m\n\u001b[0;31mSyntaxError\u001b[0m\u001b[0;31m:\u001b[0m invalid syntax. Perhaps you forgot a comma?\n"
          ]
        }
      ]
    },
    {
      "cell_type": "code",
      "source": [
        "import numpy as np\n",
        "arr = np.array([1,2,3,4])\n",
        "arr2 =np.array([5,6,7,8])\n",
        "\n",
        "print('Array+10:',arr+10)\n",
        "print('Array*2:',arr*2)\n",
        "\n",
        "print('Sum of Arr elements:',arr.sum())\n",
        "print('Mean of Arr elements:',arr.mean())\n",
        "print('Max of Arr elements:',arr.max())\n",
        "print('Min of Arr elements:',arr.min ())\n",
        "\n",
        "print('Addition',arr+arr2)\n",
        "print('Multiplication',arr*arr2)"
      ],
      "metadata": {
        "colab": {
          "base_uri": "https://localhost:8080/"
        },
        "id": "WF_b1TYmzuHs",
        "outputId": "ed2daaf7-db70-4948-e3bc-ead1b9455e60"
      },
      "execution_count": null,
      "outputs": [
        {
          "output_type": "stream",
          "name": "stdout",
          "text": [
            "Array+10: [11 12 13 14]\n",
            "Array*2: [2 4 6 8]\n",
            "Sum of Arr elements: 10\n",
            "Mean of Arr elements: 2.5\n",
            "Max of Arr elements: 4\n",
            "Min of Arr elements: 1\n",
            "Addition [ 6  8 10 12]\n",
            "Multiplication [ 5 12 21 32]\n"
          ]
        }
      ]
    },
    {
      "cell_type": "code",
      "source": [
        "import numpy as np"
      ],
      "metadata": {
        "id": "CyJJ652w2_-i"
      },
      "execution_count": null,
      "outputs": []
    },
    {
      "cell_type": "markdown",
      "source": [
        "# New Section"
      ],
      "metadata": {
        "id": "d2Rh5cXdoocz"
      }
    },
    {
      "cell_type": "code",
      "source": [],
      "metadata": {
        "id": "HU1lDcuPyKUa"
      },
      "execution_count": null,
      "outputs": []
    }
  ]
}